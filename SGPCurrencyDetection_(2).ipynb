{
  "nbformat": 4,
  "nbformat_minor": 0,
  "metadata": {
    "colab": {
      "provenance": [],
      "include_colab_link": true
    },
    "kernelspec": {
      "name": "python3",
      "display_name": "Python 3"
    },
    "accelerator": "GPU"
  },
  "cells": [
    {
      "cell_type": "markdown",
      "metadata": {
        "id": "view-in-github",
        "colab_type": "text"
      },
      "source": [
        "<a href=\"https://colab.research.google.com/github/Monikacj/Virtual-Assistant-For-Visually-Impaired/blob/main/SGPCurrencyDetection_(2).ipynb\" target=\"_parent\"><img src=\"https://colab.research.google.com/assets/colab-badge.svg\" alt=\"Open In Colab\"/></a>"
      ]
    },
    {
      "cell_type": "code",
      "source": [
        "from google.colab import drive\n",
        "drive.mount('/content/drive')"
      ],
      "metadata": {
        "colab": {
          "base_uri": "https://localhost:8080/"
        },
        "id": "UEnSazKhX4rv",
        "outputId": "e4747d2e-0f0a-4051-99fe-8a1df6154ccb"
      },
      "execution_count": 11,
      "outputs": [
        {
          "output_type": "stream",
          "name": "stdout",
          "text": [
            "Drive already mounted at /content/drive; to attempt to forcibly remount, call drive.mount(\"/content/drive\", force_remount=True).\n"
          ]
        }
      ]
    },
    {
      "cell_type": "code",
      "metadata": {
        "id": "fsmJ18SaVM07"
      },
      "source": [
        "import os\n",
        "import zipfile\n",
        "import random\n",
        "import tensorflow as tf\n",
        "from tensorflow.keras.optimizers import RMSprop\n",
        "from tensorflow.keras.preprocessing.image import ImageDataGenerator\n",
        "from shutil import copyfile\n",
        "\n"
      ],
      "execution_count": 1,
      "outputs": []
    },
    {
      "cell_type": "markdown",
      "metadata": {
        "id": "RSEEWBSIXpBh"
      },
      "source": []
    },
    {
      "cell_type": "code",
      "metadata": {
        "id": "hZydPksyXpfJ"
      },
      "source": [
        "local_zip = '/content/drive/My Drive/Thai and Indian Currency Dataset256x256 (1).zip'\n",
        "zip_ref = zipfile.ZipFile(local_zip, 'r')\n",
        "zip_ref.extractall('/tmp/')\n",
        "zip_ref.close()\n",
        "!rm -rf '/tmp/Thai and Indian Currency Dataset256x256/Thai Currencies'\n",
        "!rm -rf '/tmp/Thai and Indian Currency Dataset256x256/Indian Currencies/2000/INDIA2000_16.jpg'\n"
      ],
      "execution_count": 17,
      "outputs": []
    },
    {
      "cell_type": "markdown",
      "metadata": {
        "id": "s9Yo4hRIYU-S"
      },
      "source": []
    },
    {
      "cell_type": "code",
      "metadata": {
        "id": "nb-4xGBmYVSl"
      },
      "source": [
        "train_10_New = os.path.join('/tmp/Thai and Indian Currency Dataset256x256/Indian Currencies/10 New')\n",
        "train_10_Old = os.path.join('/tmp/Thai and Indian Currency Dataset256x256/Indian Currencies/10 Old')\n",
        "train_100_New = os.path.join('/tmp/Thai and Indian Currency Dataset256x256/Indian Currencies/100 New')\n",
        "train_100_Old = os.path.join('/tmp/Thai and Indian Currency Dataset256x256/Indian Currencies/100 Old')\n",
        "train_20 = os.path.join('/tmp/Thai and Indian Currency Dataset256x256/Indian Currencies/20')\n",
        "train_200 = os.path.join('/tmp/Thai and Indian Currency Dataset256x256/Indian Currencies/200')\n",
        "train_2000 = os.path.join('/tmp/Thai and Indian Currency Dataset256x256/Indian Currencies/2000')\n",
        "train_50_New = os.path.join('/tmp/Thai and Indian Currency Dataset256x256/Indian Currencies/50 New')\n",
        "train_50_Old = os.path.join('/tmp/Thai and Indian Currency Dataset256x256/Indian Currencies/50 Old')\n",
        "train_500 = os.path.join('/tmp/Thai and Indian Currency Dataset256x256/Indian Currencies/500')"
      ],
      "execution_count": 16,
      "outputs": []
    },
    {
      "cell_type": "markdown",
      "metadata": {
        "id": "QJF15phlYgBX"
      },
      "source": []
    },
    {
      "cell_type": "code",
      "metadata": {
        "id": "oRTmnxVdYgVi",
        "outputId": "38d8f710-73c6-4e5e-e014-c548fad0a37e",
        "colab": {
          "base_uri": "https://localhost:8080/"
        }
      },
      "source": [
        "print('total training images of 10 New: ', len(os.listdir(train_10_New)))\n",
        "print('total training images of 10 Old: ', len(os.listdir(train_10_Old)))\n",
        "print('total training images of 100 New:', len(os.listdir(train_100_New)))\n",
        "print('total training images of 100 Old:', len(os.listdir(train_100_Old)))\n",
        "print('total training images of 20:     ', len(os.listdir(train_20)))\n",
        "print('total training images of 200:    ', len(os.listdir(train_200)))\n",
        "print('total training images of 2000:   ', len(os.listdir(train_2000)))\n",
        "print('total training images of 50 New: ', len(os.listdir(train_50_New)))\n",
        "print('total training images of 50 Old: ', len(os.listdir(train_50_Old)))\n",
        "print('total training images of 500:    ', len(os.listdir(train_500)))"
      ],
      "execution_count": 18,
      "outputs": [
        {
          "output_type": "stream",
          "name": "stdout",
          "text": [
            "total training images of 10 New:  250\n",
            "total training images of 10 Old:  190\n",
            "total training images of 100 New: 190\n",
            "total training images of 100 Old: 190\n",
            "total training images of 20:      190\n",
            "total training images of 200:     190\n",
            "total training images of 2000:    189\n",
            "total training images of 50 New:  190\n",
            "total training images of 50 Old:  190\n",
            "total training images of 500:     190\n"
          ]
        }
      ]
    },
    {
      "cell_type": "markdown",
      "metadata": {
        "id": "HOTRaHbQZIIW"
      },
      "source": []
    },
    {
      "cell_type": "code",
      "metadata": {
        "id": "u24Yw3LaT6Vq",
        "outputId": "8e27a479-7648-43d5-beb6-b585c02344ba",
        "colab": {
          "base_uri": "https://localhost:8080/"
        }
      },
      "source": [
        "to_create = [\n",
        "    '/tmp/indiancurrency',\n",
        "    '/tmp/indiancurrency/training',\n",
        "    '/tmp/indiancurrency/testing',\n",
        "    '/tmp/indiancurrency/training/10New',\n",
        "    '/tmp/indiancurrency/testing/10New',\n",
        "    '/tmp/indiancurrency/training/10Old',\n",
        "    '/tmp/indiancurrency/testing/10Old',\n",
        "    '/tmp/indiancurrency/training/100New',\n",
        "    '/tmp/indiancurrency/testing/100New',\n",
        "    '/tmp/indiancurrency/training/100Old',\n",
        "    '/tmp/indiancurrency/testing/100Old',\n",
        "    '/tmp/indiancurrency/training/20',\n",
        "    '/tmp/indiancurrency/testing/20',\n",
        "    '/tmp/indiancurrency/training/200',\n",
        "    '/tmp/indiancurrency/testing/200',\n",
        "    '/tmp/indiancurrency/training/2000',\n",
        "    '/tmp/indiancurrency/testing/2000',\n",
        "    '/tmp/indiancurrency/training/50New',\n",
        "    '/tmp/indiancurrency/testing/50New',\n",
        "    '/tmp/indiancurrency/training/50Old',\n",
        "    '/tmp/indiancurrency/testing/50Old',\n",
        "    '/tmp/indiancurrency/training/500',\n",
        "    '/tmp/indiancurrency/testing/500'\n",
        "]\n",
        "\n",
        "for directory in to_create:\n",
        "    try:\n",
        "        os.mkdir(directory)\n",
        "        print(directory, 'created')\n",
        "    except:\n",
        "        print(directory, 'failed')"
      ],
      "execution_count": 14,
      "outputs": [
        {
          "output_type": "stream",
          "name": "stdout",
          "text": [
            "/tmp/indiancurrency created\n",
            "/tmp/indiancurrency/training created\n",
            "/tmp/indiancurrency/testing created\n",
            "/tmp/indiancurrency/training/10New created\n",
            "/tmp/indiancurrency/testing/10New created\n",
            "/tmp/indiancurrency/training/10Old created\n",
            "/tmp/indiancurrency/testing/10Old created\n",
            "/tmp/indiancurrency/training/100New created\n",
            "/tmp/indiancurrency/testing/100New created\n",
            "/tmp/indiancurrency/training/100Old created\n",
            "/tmp/indiancurrency/testing/100Old created\n",
            "/tmp/indiancurrency/training/20 created\n",
            "/tmp/indiancurrency/testing/20 created\n",
            "/tmp/indiancurrency/training/200 created\n",
            "/tmp/indiancurrency/testing/200 created\n",
            "/tmp/indiancurrency/training/2000 created\n",
            "/tmp/indiancurrency/testing/2000 created\n",
            "/tmp/indiancurrency/training/50New created\n",
            "/tmp/indiancurrency/testing/50New created\n",
            "/tmp/indiancurrency/training/50Old created\n",
            "/tmp/indiancurrency/testing/50Old created\n",
            "/tmp/indiancurrency/training/500 created\n",
            "/tmp/indiancurrency/testing/500 created\n"
          ]
        }
      ]
    },
    {
      "cell_type": "code",
      "metadata": {
        "id": "pqkJQaJfUdtZ",
        "outputId": "c13b777c-0e7f-41f6-ef10-301080ca03f2",
        "colab": {
          "base_uri": "https://localhost:8080/"
        }
      },
      "source": [
        "def split_data(SOURCE, TRAINING, TESTING, SPLIT_SIZE):\n",
        "    all_files = []\n",
        "    \n",
        "    for file_name in os.listdir(SOURCE):\n",
        "        file_path = SOURCE + file_name\n",
        "\n",
        "        if os.path.getsize(file_path):\n",
        "            all_files.append(file_name)\n",
        "        else:\n",
        "            print('{} is zero length, so ignoring'.format(file_name))\n",
        "    \n",
        "    n_files = len(all_files)\n",
        "    split_point = int(n_files * SPLIT_SIZE)\n",
        "    \n",
        "    shuffled = random.sample(all_files, n_files)\n",
        "    \n",
        "    train_set = shuffled[:split_point]\n",
        "    test_set = shuffled[split_point:]\n",
        "    \n",
        "    for file_name in train_set:\n",
        "        copyfile(SOURCE + file_name, TRAINING + file_name)\n",
        "        \n",
        "    for file_name in test_set:\n",
        "        copyfile(SOURCE + file_name, TESTING + file_name)\n",
        "\n",
        "split_size = .9\n",
        "\n",
        "NEW10_SOURCE_DIR = r\"/tmp/Thai and Indian Currency Dataset256x256/Indian Currencies/10 New/\"\n",
        "TRAINING_NEW10_DIR = r\"/tmp/indiancurrency/training/10New/\"\n",
        "TESTING_NEW10_DIR = r\"/tmp/indiancurrency/testing/10New/\"\n",
        "\n",
        "split_data(NEW10_SOURCE_DIR, TRAINING_NEW10_DIR, TESTING_NEW10_DIR, split_size)\n",
        "\n",
        "Old10_SOURCE_DIR = r\"/tmp/Thai and Indian Currency Dataset256x256/Indian Currencies/10 Old/\"\n",
        "TRAINING_OLD10_DIR = r\"/tmp/indiancurrency/training/10New/\"\n",
        "TESTING_OLD10_DIR = r\"/tmp/indiancurrency/testing/10New/\"\n",
        "\n",
        "split_data(Old10_SOURCE_DIR, TRAINING_OLD10_DIR, TESTING_OLD10_DIR, split_size)\n",
        "\n",
        "NEW100_SOURCE_DIR = r\"/tmp/Thai and Indian Currency Dataset256x256/Indian Currencies/100 New/\"\n",
        "TRAINING_NEW100_DIR = r\"/tmp/indiancurrency/training/100New/\"\n",
        "TESTING_NEW100_DIR = r\"/tmp/indiancurrency/testing/100New/\"\n",
        "\n",
        "split_data(NEW100_SOURCE_DIR, TRAINING_NEW100_DIR, TESTING_NEW100_DIR, split_size)\n",
        "\n",
        "OLD100_SOURCE_DIR = r\"/tmp/Thai and Indian Currency Dataset256x256/Indian Currencies/100 Old/\"\n",
        "TRAINING_OLD100_DIR = r\"/tmp/indiancurrency/training/100Old/\"\n",
        "TESTING_OLD100_DIR = r\"/tmp/indiancurrency/testing/100Old/\"\n",
        "\n",
        "split_data(OLD100_SOURCE_DIR, TRAINING_OLD100_DIR, TESTING_OLD100_DIR, split_size)\n",
        "\n",
        "NEW20_SOURCE_DIR = r\"/tmp/Thai and Indian Currency Dataset256x256/Indian Currencies/20/\"\n",
        "TRAINING_NEW20_DIR = r\"/tmp/indiancurrency/training/20/\"\n",
        "TESTING_NEW20_DIR = r\"/tmp/indiancurrency/testing/20/\"\n",
        "\n",
        "split_data(NEW20_SOURCE_DIR, TRAINING_NEW20_DIR, TESTING_NEW20_DIR, split_size)\n",
        "\n",
        "NEW200_SOURCE_DIR = r\"/tmp/Thai and Indian Currency Dataset256x256/Indian Currencies/200/\"\n",
        "TRAINING_NEW200_DIR = r\"/tmp/indiancurrency/training/200/\"\n",
        "TESTING_NEW200_DIR = r\"/tmp/indiancurrency/testing/200/\"\n",
        "\n",
        "split_data(NEW200_SOURCE_DIR, TRAINING_NEW200_DIR, TESTING_NEW200_DIR, split_size)\n",
        "\n",
        "NEW2000_SOURCE_DIR = r\"/tmp/Thai and Indian Currency Dataset256x256/Indian Currencies/2000/\"\n",
        "TRAINING_NEW2000_DIR = r\"/tmp/indiancurrency/training/2000/\"\n",
        "TESTING_NEW2000_DIR = r\"/tmp/indiancurrency/testing/2000/\"\n",
        "\n",
        "split_data(NEW2000_SOURCE_DIR, TRAINING_NEW2000_DIR, TESTING_NEW2000_DIR, split_size)\n",
        "\n",
        "NEW50_SOURCE_DIR = r\"/tmp/Thai and Indian Currency Dataset256x256/Indian Currencies/50 New/\"\n",
        "TRAINING_NEW50_DIR = r\"/tmp/indiancurrency/training/50New/\"\n",
        "TESTING_NEW50_DIR = r\"/tmp/indiancurrency/testing/50New/\"\n",
        "\n",
        "split_data(NEW50_SOURCE_DIR, TRAINING_NEW50_DIR, TESTING_NEW50_DIR, split_size)\n",
        "\n",
        "OLD50_SOURCE_DIR = r\"/tmp/Thai and Indian Currency Dataset256x256/Indian Currencies/50 Old/\"\n",
        "TRAINING_OLD50_DIR = r\"/tmp/indiancurrency/training/50Old/\"\n",
        "TESTING_OLD50_DIR = r\"/tmp/indiancurrency/testing/50Old/\"\n",
        "\n",
        "split_data(OLD50_SOURCE_DIR, TRAINING_OLD50_DIR, TESTING_OLD50_DIR, split_size)\n",
        "\n",
        "NEW500_SOURCE_DIR = r\"/tmp/Thai and Indian Currency Dataset256x256/Indian Currencies/500/\"\n",
        "TRAINING_NEW500_DIR = r\"/tmp/indiancurrency/training/500/\"\n",
        "TESTING_NEW500_DIR = r\"/tmp/indiancurrency/testing/500/\"\n",
        "\n",
        "split_data(NEW500_SOURCE_DIR, TRAINING_NEW500_DIR, TESTING_NEW500_DIR, split_size)\n",
        "\n",
        "print(len(os.listdir(TRAINING_NEW10_DIR)))\n",
        "print(len(os.listdir(TESTING_NEW10_DIR)))\n",
        "\n",
        "print(len(os.listdir(TRAINING_OLD10_DIR)))\n",
        "print(len(os.listdir(TESTING_OLD10_DIR)))\n",
        "\n",
        "print(len(os.listdir(TRAINING_NEW100_DIR)))\n",
        "print(len(os.listdir(TESTING_NEW100_DIR)))\n",
        "\n",
        "print(len(os.listdir(TRAINING_OLD100_DIR)))\n",
        "print(len(os.listdir(TESTING_OLD100_DIR)))\n",
        "\n",
        "print(len(os.listdir(TRAINING_NEW20_DIR)))\n",
        "print(len(os.listdir(TESTING_NEW20_DIR)))\n",
        "\n",
        "print(len(os.listdir(TRAINING_NEW200_DIR)))\n",
        "print(len(os.listdir(TESTING_NEW200_DIR)))\n",
        "\n",
        "print(len(os.listdir(TRAINING_NEW2000_DIR)))\n",
        "print(len(os.listdir(TESTING_NEW2000_DIR)))\n",
        "\n",
        "print(len(os.listdir(TRAINING_NEW50_DIR)))\n",
        "print(len(os.listdir(TESTING_NEW50_DIR)))\n",
        "\n",
        "print(len(os.listdir(TRAINING_OLD50_DIR)))\n",
        "print(len(os.listdir(TESTING_OLD50_DIR)))\n",
        "\n",
        "print(len(os.listdir(TRAINING_NEW500_DIR)))\n",
        "print(len(os.listdir(TESTING_NEW500_DIR)))\n",
        "\n",
        "\n"
      ],
      "execution_count": 19,
      "outputs": [
        {
          "output_type": "stream",
          "name": "stdout",
          "text": [
            "396\n",
            "44\n",
            "396\n",
            "44\n",
            "171\n",
            "19\n",
            "171\n",
            "19\n",
            "171\n",
            "19\n",
            "171\n",
            "19\n",
            "170\n",
            "19\n",
            "171\n",
            "19\n",
            "171\n",
            "19\n",
            "171\n",
            "19\n"
          ]
        }
      ]
    },
    {
      "cell_type": "code",
      "metadata": {
        "id": "KpdELB-ZZIYC"
      },
      "source": [
        "class myCallback(tf.keras.callbacks.Callback):\n",
        "  def on_epoch_end(self, epoch, logs={}):\n",
        "    if(logs.get('accuracy')>0.65):\n",
        "      print(\"\\nReached 70% accuracy so cancelling training!\")\n",
        "      self.model.stop_training = True\n",
        "\n",
        "callbacks = myCallback()\n",
        "\n",
        "model = tf.keras.models.Sequential([\n",
        "\n",
        "    # This is the first convolution\n",
        "    tf.keras.layers.Conv2D(32, (3,3), activation='relu', input_shape=(256, 256, 3)),\n",
        "    tf.keras.layers.MaxPooling2D(2, 2),\n",
        "    # The second convolution\n",
        "    tf.keras.layers.Conv2D(32, (3,3), activation='relu'),\n",
        "    tf.keras.layers.MaxPooling2D(2,2),\n",
        "    # The third convolution\n",
        "    tf.keras.layers.Conv2D(32, (3,3), activation='relu'),\n",
        "    tf.keras.layers.MaxPooling2D(2,2),\n",
        "    # Flatten the results to feed into a DNN\n",
        "    tf.keras.layers.Flatten(),\n",
        "    # 512 neuron hidden layer\n",
        "    tf.keras.layers.Dense(512, activation='relu'),\n",
        "    tf.keras.layers.Dense(10, activation='softmax')\n",
        "])"
      ],
      "execution_count": 13,
      "outputs": []
    },
    {
      "cell_type": "markdown",
      "metadata": {
        "id": "Fl04tgKpZOHM"
      },
      "source": []
    },
    {
      "cell_type": "code",
      "metadata": {
        "id": "7DggEe7QZOXg",
        "outputId": "8affdab8-d9d5-47c6-aa86-62d043ae077e",
        "colab": {
          "base_uri": "https://localhost:8080/"
        }
      },
      "source": [
        "model.summary()"
      ],
      "execution_count": 21,
      "outputs": [
        {
          "output_type": "stream",
          "name": "stdout",
          "text": [
            "Model: \"sequential\"\n",
            "_________________________________________________________________\n",
            " Layer (type)                Output Shape              Param #   \n",
            "=================================================================\n",
            " conv2d (Conv2D)             (None, 254, 254, 32)      896       \n",
            "                                                                 \n",
            " max_pooling2d (MaxPooling2D  (None, 127, 127, 32)     0         \n",
            " )                                                               \n",
            "                                                                 \n",
            " conv2d_1 (Conv2D)           (None, 125, 125, 32)      9248      \n",
            "                                                                 \n",
            " max_pooling2d_1 (MaxPooling  (None, 62, 62, 32)       0         \n",
            " 2D)                                                             \n",
            "                                                                 \n",
            " conv2d_2 (Conv2D)           (None, 60, 60, 32)        9248      \n",
            "                                                                 \n",
            " max_pooling2d_2 (MaxPooling  (None, 30, 30, 32)       0         \n",
            " 2D)                                                             \n",
            "                                                                 \n",
            " flatten (Flatten)           (None, 28800)             0         \n",
            "                                                                 \n",
            " dense (Dense)               (None, 512)               14746112  \n",
            "                                                                 \n",
            " dense_1 (Dense)             (None, 10)                5130      \n",
            "                                                                 \n",
            "=================================================================\n",
            "Total params: 14,770,634\n",
            "Trainable params: 14,770,634\n",
            "Non-trainable params: 0\n",
            "_________________________________________________________________\n"
          ]
        }
      ]
    },
    {
      "cell_type": "markdown",
      "metadata": {
        "id": "vMbjWy1JZQc0"
      },
      "source": []
    },
    {
      "cell_type": "code",
      "metadata": {
        "id": "6zvATy1zZQ24"
      },
      "source": [
        "model.compile(loss = 'categorical_crossentropy', optimizer='rmsprop', metrics=['accuracy'])\n",
        "#model.compile(optimizer='adam', loss='categorical_crossentropy', metrics=['accuracy'])"
      ],
      "execution_count": 22,
      "outputs": []
    },
    {
      "cell_type": "markdown",
      "metadata": {
        "id": "b03gfS8_Zi4V"
      },
      "source": []
    },
    {
      "cell_type": "code",
      "metadata": {
        "id": "4kGimKM-ZjKw"
      },
      "source": [
        "train_datagen = ImageDataGenerator(\n",
        "      rescale=1./255,\n",
        "      rotation_range=90,\n",
        "      width_shift_range=0.2,\n",
        "      height_shift_range=0.2,\n",
        "      shear_range=0.2,\n",
        "      zoom_range=0.2,\n",
        "      horizontal_flip=True,\n",
        "      fill_mode='nearest')"
      ],
      "execution_count": 24,
      "outputs": []
    },
    {
      "cell_type": "markdown",
      "metadata": {
        "id": "8Ghtpu7OZ1GT"
      },
      "source": []
    },
    {
      "cell_type": "code",
      "metadata": {
        "id": "hcm9d635Z1Y4",
        "outputId": "d94efee0-af22-4490-ba1d-3b0927443ec4",
        "colab": {
          "base_uri": "https://localhost:8080/"
        }
      },
      "source": [
        "TRAINING_DIR = '/tmp/indiancurrency/training/'\n",
        "#train_datagen = ImageDataGenerator(rescale= 1/255)\n",
        "train_generator = train_datagen.flow_from_directory(\n",
        "    TRAINING_DIR,\n",
        "    batch_size=32,\n",
        "    class_mode='categorical',\n",
        "    target_size=(256, 256)\n",
        ")\n",
        "\n",
        "VALIDATION_DIR = '/tmp/indiancurrency/testing/'\n",
        "validation_datagen = ImageDataGenerator(rescale= 1/255)\n",
        "validation_generator = validation_datagen.flow_from_directory(\n",
        "    VALIDATION_DIR,\n",
        "    batch_size=32,\n",
        "    class_mode='categorical',\n",
        "    target_size=(256, 256)\n",
        ")"
      ],
      "execution_count": 25,
      "outputs": [
        {
          "output_type": "stream",
          "name": "stdout",
          "text": [
            "Found 1763 images belonging to 10 classes.\n",
            "Found 196 images belonging to 10 classes.\n"
          ]
        }
      ]
    },
    {
      "cell_type": "markdown",
      "metadata": {
        "id": "y5laDwzOaG3_"
      },
      "source": []
    },
    {
      "cell_type": "code",
      "metadata": {
        "id": "FkpXL5VOaHNV",
        "outputId": "bd18af43-20c5-4bbe-d1c2-7ef6cf2089d0",
        "colab": {
          "base_uri": "https://localhost:8080/"
        }
      },
      "source": [
        "history = model.fit(\n",
        "      train_generator,\n",
        "      epochs=15,  \n",
        "      verbose=1,\n",
        "      validation_data=validation_generator,\n",
        "      callbacks=[callbacks])"
      ],
      "execution_count": 26,
      "outputs": [
        {
          "output_type": "stream",
          "name": "stdout",
          "text": [
            "Epoch 1/15\n",
            "56/56 [==============================] - 38s 512ms/step - loss: 3.0347 - accuracy: 0.1821 - val_loss: 2.1553 - val_accuracy: 0.2245\n",
            "Epoch 2/15\n",
            "56/56 [==============================] - 26s 456ms/step - loss: 2.1758 - accuracy: 0.2002 - val_loss: 2.0446 - val_accuracy: 0.2194\n",
            "Epoch 3/15\n",
            "56/56 [==============================] - 26s 455ms/step - loss: 2.0598 - accuracy: 0.2484 - val_loss: 1.8050 - val_accuracy: 0.3469\n",
            "Epoch 4/15\n",
            "56/56 [==============================] - 25s 451ms/step - loss: 1.9749 - accuracy: 0.2779 - val_loss: 1.7189 - val_accuracy: 0.3418\n",
            "Epoch 5/15\n",
            "56/56 [==============================] - 25s 453ms/step - loss: 1.8151 - accuracy: 0.3176 - val_loss: 2.0863 - val_accuracy: 0.2143\n",
            "Epoch 6/15\n",
            "56/56 [==============================] - 26s 455ms/step - loss: 1.7320 - accuracy: 0.3659 - val_loss: 1.7046 - val_accuracy: 0.3827\n",
            "Epoch 7/15\n",
            "56/56 [==============================] - 26s 459ms/step - loss: 1.6127 - accuracy: 0.3976 - val_loss: 1.2386 - val_accuracy: 0.5663\n",
            "Epoch 8/15\n",
            "56/56 [==============================] - 25s 452ms/step - loss: 1.6024 - accuracy: 0.4424 - val_loss: 1.2396 - val_accuracy: 0.5102\n",
            "Epoch 9/15\n",
            "56/56 [==============================] - 25s 448ms/step - loss: 1.4965 - accuracy: 0.4407 - val_loss: 1.1892 - val_accuracy: 0.6378\n",
            "Epoch 10/15\n",
            "56/56 [==============================] - 25s 451ms/step - loss: 1.3945 - accuracy: 0.4850 - val_loss: 1.0954 - val_accuracy: 0.5612\n",
            "Epoch 11/15\n",
            "56/56 [==============================] - 25s 453ms/step - loss: 1.2734 - accuracy: 0.5377 - val_loss: 0.9116 - val_accuracy: 0.6684\n",
            "Epoch 12/15\n",
            "56/56 [==============================] - 25s 451ms/step - loss: 1.2078 - accuracy: 0.5508 - val_loss: 1.3014 - val_accuracy: 0.4898\n",
            "Epoch 13/15\n",
            "56/56 [==============================] - 26s 465ms/step - loss: 1.2463 - accuracy: 0.5689 - val_loss: 0.9082 - val_accuracy: 0.6837\n",
            "Epoch 14/15\n",
            "56/56 [==============================] - 29s 528ms/step - loss: 1.0278 - accuracy: 0.6222 - val_loss: 1.1978 - val_accuracy: 0.5153\n",
            "Epoch 15/15\n",
            "56/56 [==============================] - 26s 465ms/step - loss: 1.0485 - accuracy: 0.6302 - val_loss: 1.5168 - val_accuracy: 0.4949\n"
          ]
        }
      ]
    },
    {
      "cell_type": "markdown",
      "metadata": {
        "id": "llM6aJV1NjtQ"
      },
      "source": [
        "Plotting loss and accuracy."
      ]
    },
    {
      "cell_type": "code",
      "metadata": {
        "id": "0qLzcUp1NkDq",
        "outputId": "5995c4c6-6847-48e5-bd11-337bd13365d8",
        "colab": {
          "base_uri": "https://localhost:8080/",
          "height": 545
        }
      },
      "source": [
        "import matplotlib.pyplot as plt\n",
        "acc = history.history['accuracy']\n",
        "val_acc = history.history['val_accuracy']\n",
        "loss = history.history['loss']\n",
        "val_loss = history.history['val_loss']\n",
        "\n",
        "epochs = range(len(acc))\n",
        "\n",
        "plt.plot(epochs, acc, 'r', label='Training accuracy')\n",
        "plt.plot(epochs, val_acc, 'b', label='Validation accuracy')\n",
        "plt.title('Training and validation accuracy')\n",
        "\n",
        "plt.figure()\n",
        "\n",
        "plt.plot(epochs, loss, 'r', label='Training Loss')\n",
        "plt.plot(epochs, val_loss, 'b', label='Validation Loss')\n",
        "plt.title('Training and validation loss')\n",
        "plt.legend()\n",
        "\n",
        "plt.show()"
      ],
      "execution_count": 28,
      "outputs": [
        {
          "output_type": "display_data",
          "data": {
            "text/plain": [
              "<Figure size 432x288 with 1 Axes>"
            ],
            "image/png": "[encoded data removed]"
          },
          "metadata": {
            "needs_background": "light"
          }
        },
        {
          "output_type": "display_data",
          "data": {
            "text/plain": [
              "<Figure size 432x288 with 1 Axes>"
            ],
            "image/png": "[encoded data removed]"
          },
          "metadata": {
            "needs_background": "light"
          }
        }
      ]
    },
    {
      "cell_type": "markdown",
      "metadata": {
        "id": "-wnt_PHhNVDH"
      },
      "source": [
        "Predicting with new images."
      ]
    },
    {
      "cell_type": "code",
      "metadata": {
        "id": "HaOHs9-iNVb7",
        "outputId": "5d6c8e1a-b677-4198-be42-e51f5235e26b",
        "colab": {
          "base_uri": "https://localhost:8080/",
          "height": 419
        }
      },
      "source": [
        "import numpy as np\n",
        "from google.colab import files\n",
        "from keras.preprocessing import image\n",
        "\n",
        "uploaded = files.upload()\n",
        "\n",
        "for fn in uploaded.keys():\n",
        " \n",
        "  # predicting images\n",
        "  path = fn\n",
        "  img = image.load_img(path, target_size=(256, 256))\n",
        "  x = image.img_to_array(img)\n",
        "  x = np.expand_dims(x, axis=0)\n",
        "\n",
        "  images = np.vstack([x])\n",
        "\n",
        "  #predictions = model.predict(images,batch_size=32)\n",
        "  #class_names = ['10RsNote', '10RsNote', '100RsNote', '100RsNote','20RsNote','200RsNote', '2000RsNote','50RsNote','50RsNote','500RsNote']\n",
        "  #print(model.predict_classes())\n",
        "  print(np.argmax(model.predict(images), axis=-1))"
      ],
      "execution_count": 29,
      "outputs": [
        {
          "output_type": "display_data",
          "data": {
            "text/plain": [
              "<IPython.core.display.HTML object>"
            ],
            "text/html": [
              "\n",
              "     <input type=\"file\" id=\"files-4ea73e31-6c9e-4e41-8ba2-b5b65f4e8c99\" name=\"files[]\" multiple disabled\n",
              "        style=\"border:none\" />\n",
              "     <output id=\"result-4ea73e31-6c9e-4e41-8ba2-b5b65f4e8c99\">\n",
              "      Upload widget is only available when the cell has been executed in the\n",
              "      current browser session. Please rerun this cell to enable.\n",
              "      </output>\n",
              "      <script>// Copyright 2017 Google LLC\n",
              "//\n",
              "// Licensed under the Apache License, Version 2.0 (the \"License\");\n",
              "// you may not use this file except in compliance with the License.\n",
              "// You may obtain a copy of the License at\n",
              "//\n",
              "//      http://www.apache.org/licenses/LICENSE-2.0\n",
              "//\n",
              "// Unless required by applicable law or agreed to in writing, software\n",
              "// distributed under the License is distributed on an \"AS IS\" BASIS,\n",
              "// WITHOUT WARRANTIES OR CONDITIONS OF ANY KIND, either express or implied.\n",
              "// See the License for the specific language governing permissions and\n",
              "// limitations under the License.\n",
              "\n",
              "/**\n",
              " * @fileoverview Helpers for google.colab Python module.\n",
              " */\n",
              "(function(scope) {\n",
              "function span(text, styleAttributes = {}) {\n",
              "  const element = document.createElement('span');\n",
              "  element.textContent = text;\n",
              "  for (const key of Object.keys(styleAttributes)) {\n",
              "    element.style[key] = styleAttributes[key];\n",
              "  }\n",
              "  return element;\n",
              "}\n",
              "\n",
              "// Max number of bytes which will be uploaded at a time.\n",
              "const MAX_PAYLOAD_SIZE = 100 * 1024;\n",
              "\n",
              "function _uploadFiles(inputId, outputId) {\n",
              "  const steps = uploadFilesStep(inputId, outputId);\n",
              "  const outputElement = document.getElementById(outputId);\n",
              "  // Cache steps on the outputElement to make it available for the next call\n",
              "  // to uploadFilesContinue from Python.\n",
              "  outputElement.steps = steps;\n",
              "\n",
              "  return _uploadFilesContinue(outputId);\n",
              "}\n",
              "\n",
              "// This is roughly an async generator (not supported in the browser yet),\n",
              "// where there are multiple asynchronous steps and the Python side is going\n",
              "// to poll for completion of each step.\n",
              "// This uses a Promise to block the python side on completion of each step,\n",
              "// then passes the result of the previous step as the input to the next step.\n",
              "function _uploadFilesContinue(outputId) {\n",
              "  const outputElement = document.getElementById(outputId);\n",
              "  const steps = outputElement.steps;\n",
              "\n",
              "  const next = steps.next(outputElement.lastPromiseValue);\n",
              "  return Promise.resolve(next.value.promise).then((value) => {\n",
              "    // Cache the last promise value to make it available to the next\n",
              "    // step of the generator.\n",
              "    outputElement.lastPromiseValue = value;\n",
              "    return next.value.response;\n",
              "  });\n",
              "}\n",
              "\n",
              "/**\n",
              " * Generator function which is called between each async step of the upload\n",
              " * process.\n",
              " * @param {string} inputId Element ID of the input file picker element.\n",
              " * @param {string} outputId Element ID of the output display.\n",
              " * @return {!Iterable<!Object>} Iterable of next steps.\n",
              " */\n",
              "function* uploadFilesStep(inputId, outputId) {\n",
              "  const inputElement = document.getElementById(inputId);\n",
              "  inputElement.disabled = false;\n",
              "\n",
              "  const outputElement = document.getElementById(outputId);\n",
              "  outputElement.innerHTML = '';\n",
              "\n",
              "  const pickedPromise = new Promise((resolve) => {\n",
              "    inputElement.addEventListener('change', (e) => {\n",
              "      resolve(e.target.files);\n",
              "    });\n",
              "  });\n",
              "\n",
              "  const cancel = document.createElement('button');\n",
              "  inputElement.parentElement.appendChild(cancel);\n",
              "  cancel.textContent = 'Cancel upload';\n",
              "  const cancelPromise = new Promise((resolve) => {\n",
              "    cancel.onclick = () => {\n",
              "      resolve(null);\n",
              "    };\n",
              "  });\n",
              "\n",
              "  // Wait for the user to pick the files.\n",
              "  const files = yield {\n",
              "    promise: Promise.race([pickedPromise, cancelPromise]),\n",
              "    response: {\n",
              "      action: 'starting',\n",
              "    }\n",
              "  };\n",
              "\n",
              "  cancel.remove();\n",
              "\n",
              "  // Disable the input element since further picks are not allowed.\n",
              "  inputElement.disabled = true;\n",
              "\n",
              "  if (!files) {\n",
              "    return {\n",
              "      response: {\n",
              "        action: 'complete',\n",
              "      }\n",
              "    };\n",
              "  }\n",
              "\n",
              "  for (const file of files) {\n",
              "    const li = document.createElement('li');\n",
              "    li.append(span(file.name, {fontWeight: 'bold'}));\n",
              "    li.append(span(\n",
              "        `(${file.type || 'n/a'}) - ${file.size} bytes, ` +\n",
              "        `last modified: ${\n",
              "            file.lastModifiedDate ? file.lastModifiedDate.toLocaleDateString() :\n",
              "                                    'n/a'} - `));\n",
              "    const percent = span('0% done');\n",
              "    li.appendChild(percent);\n",
              "\n",
              "    outputElement.appendChild(li);\n",
              "\n",
              "    const fileDataPromise = new Promise((resolve) => {\n",
              "      const reader = new FileReader();\n",
              "      reader.onload = (e) => {\n",
              "        resolve(e.target.result);\n",
              "      };\n",
              "      reader.readAsArrayBuffer(file);\n",
              "    });\n",
              "    // Wait for the data to be ready.\n",
              "    let fileData = yield {\n",
              "      promise: fileDataPromise,\n",
              "      response: {\n",
              "        action: 'continue',\n",
              "      }\n",
              "    };\n",
              "\n",
              "    // Use a chunked sending to avoid message size limits. See b/62115660.\n",
              "    let position = 0;\n",
              "    do {\n",
              "      const length = Math.min(fileData.byteLength - position, MAX_PAYLOAD_SIZE);\n",
              "      const chunk = new Uint8Array(fileData, position, length);\n",
              "      position += length;\n",
              "\n",
              "      const base64 = btoa(String.fromCharCode.apply(null, chunk));\n",
              "      yield {\n",
              "        response: {\n",
              "          action: 'append',\n",
              "          file: file.name,\n",
              "          data: base64,\n",
              "        },\n",
              "      };\n",
              "\n",
              "      let percentDone = fileData.byteLength === 0 ?\n",
              "          100 :\n",
              "          Math.round((position / fileData.byteLength) * 100);\n",
              "      percent.textContent = `${percentDone}% done`;\n",
              "\n",
              "    } while (position < fileData.byteLength);\n",
              "  }\n",
              "\n",
              "  // All done.\n",
              "  yield {\n",
              "    response: {\n",
              "      action: 'complete',\n",
              "    }\n",
              "  };\n",
              "}\n",
              "\n",
              "scope.google = scope.google || {};\n",
              "scope.google.colab = scope.google.colab || {};\n",
              "scope.google.colab._files = {\n",
              "  _uploadFiles,\n",
              "  _uploadFilesContinue,\n",
              "};\n",
              "})(self);\n",
              "</script> "
            ]
          },
          "metadata": {}
        },
        {
          "output_type": "error",
          "ename": "KeyboardInterrupt",
          "evalue": "ignored",
          "traceback": [
            "\u001b[0;31m---------------------------------------------------------------------------\u001b[0m",
            "\u001b[0;31mKeyboardInterrupt\u001b[0m                         Traceback (most recent call last)",
            "\u001b[0;32m<ipython-input-29-cf60158b76f0>\u001b[0m in \u001b[0;36m<module>\u001b[0;34m\u001b[0m\n\u001b[1;32m      3\u001b[0m \u001b[0;32mfrom\u001b[0m \u001b[0mkeras\u001b[0m\u001b[0;34m.\u001b[0m\u001b[0mpreprocessing\u001b[0m \u001b[0;32mimport\u001b[0m \u001b[0mimage\u001b[0m\u001b[0;34m\u001b[0m\u001b[0;34m\u001b[0m\u001b[0m\n\u001b[1;32m      4\u001b[0m \u001b[0;34m\u001b[0m\u001b[0m\n\u001b[0;32m----> 5\u001b[0;31m \u001b[0muploaded\u001b[0m \u001b[0;34m=\u001b[0m \u001b[0mfiles\u001b[0m\u001b[0;34m.\u001b[0m\u001b[0mupload\u001b[0m\u001b[0;34m(\u001b[0m\u001b[0;34m)\u001b[0m\u001b[0;34m\u001b[0m\u001b[0;34m\u001b[0m\u001b[0m\n\u001b[0m\u001b[1;32m      6\u001b[0m \u001b[0;34m\u001b[0m\u001b[0m\n\u001b[1;32m      7\u001b[0m \u001b[0;32mfor\u001b[0m \u001b[0mfn\u001b[0m \u001b[0;32min\u001b[0m \u001b[0muploaded\u001b[0m\u001b[0;34m.\u001b[0m\u001b[0mkeys\u001b[0m\u001b[0;34m(\u001b[0m\u001b[0;34m)\u001b[0m\u001b[0;34m:\u001b[0m\u001b[0;34m\u001b[0m\u001b[0;34m\u001b[0m\u001b[0m\n",
            "\u001b[0;32m/usr/local/lib/python3.8/dist-packages/google/colab/files.py\u001b[0m in \u001b[0;36mupload\u001b[0;34m()\u001b[0m\n\u001b[1;32m     65\u001b[0m   \"\"\"\n\u001b[1;32m     66\u001b[0m \u001b[0;34m\u001b[0m\u001b[0m\n\u001b[0;32m---> 67\u001b[0;31m   \u001b[0muploaded_files\u001b[0m \u001b[0;34m=\u001b[0m \u001b[0m_upload_files\u001b[0m\u001b[0;34m(\u001b[0m\u001b[0mmultiple\u001b[0m\u001b[0;34m=\u001b[0m\u001b[0;32mTrue\u001b[0m\u001b[0;34m)\u001b[0m\u001b[0;34m\u001b[0m\u001b[0;34m\u001b[0m\u001b[0m\n\u001b[0m\u001b[1;32m     68\u001b[0m   \u001b[0;31m# Mapping from original filename to filename as saved locally.\u001b[0m\u001b[0;34m\u001b[0m\u001b[0;34m\u001b[0m\u001b[0;34m\u001b[0m\u001b[0m\n\u001b[1;32m     69\u001b[0m   \u001b[0mlocal_filenames\u001b[0m \u001b[0;34m=\u001b[0m \u001b[0mdict\u001b[0m\u001b[0;34m(\u001b[0m\u001b[0;34m)\u001b[0m\u001b[0;34m\u001b[0m\u001b[0;34m\u001b[0m\u001b[0m\n",
            "\u001b[0;32m/usr/local/lib/python3.8/dist-packages/google/colab/files.py\u001b[0m in \u001b[0;36m_upload_files\u001b[0;34m(multiple)\u001b[0m\n\u001b[1;32m    142\u001b[0m \u001b[0;34m\u001b[0m\u001b[0m\n\u001b[1;32m    143\u001b[0m   \u001b[0;31m# First result is always an indication that the file picker has completed.\u001b[0m\u001b[0;34m\u001b[0m\u001b[0;34m\u001b[0m\u001b[0;34m\u001b[0m\u001b[0m\n\u001b[0;32m--> 144\u001b[0;31m   result = _output.eval_js(\n\u001b[0m\u001b[1;32m    145\u001b[0m       'google.colab._files._uploadFiles(\"{input_id}\", \"{output_id}\")'.format(\n\u001b[1;32m    146\u001b[0m           input_id=input_id, output_id=output_id))\n",
            "\u001b[0;32m/usr/local/lib/python3.8/dist-packages/google/colab/output/_js.py\u001b[0m in \u001b[0;36meval_js\u001b[0;34m(script, ignore_result, timeout_sec)\u001b[0m\n\u001b[1;32m     38\u001b[0m   \u001b[0;32mif\u001b[0m \u001b[0mignore_result\u001b[0m\u001b[0;34m:\u001b[0m\u001b[0;34m\u001b[0m\u001b[0;34m\u001b[0m\u001b[0m\n\u001b[1;32m     39\u001b[0m     \u001b[0;32mreturn\u001b[0m\u001b[0;34m\u001b[0m\u001b[0;34m\u001b[0m\u001b[0m\n\u001b[0;32m---> 40\u001b[0;31m   \u001b[0;32mreturn\u001b[0m \u001b[0m_message\u001b[0m\u001b[0;34m.\u001b[0m\u001b[0mread_reply_from_input\u001b[0m\u001b[0;34m(\u001b[0m\u001b[0mrequest_id\u001b[0m\u001b[0;34m,\u001b[0m \u001b[0mtimeout_sec\u001b[0m\u001b[0;34m)\u001b[0m\u001b[0;34m\u001b[0m\u001b[0;34m\u001b[0m\u001b[0m\n\u001b[0m\u001b[1;32m     41\u001b[0m \u001b[0;34m\u001b[0m\u001b[0m\n\u001b[1;32m     42\u001b[0m \u001b[0;34m\u001b[0m\u001b[0m\n",
            "\u001b[0;32m/usr/local/lib/python3.8/dist-packages/google/colab/_message.py\u001b[0m in \u001b[0;36mread_reply_from_input\u001b[0;34m(message_id, timeout_sec)\u001b[0m\n\u001b[1;32m     95\u001b[0m     \u001b[0mreply\u001b[0m \u001b[0;34m=\u001b[0m \u001b[0m_read_next_input_message\u001b[0m\u001b[0;34m(\u001b[0m\u001b[0;34m)\u001b[0m\u001b[0;34m\u001b[0m\u001b[0;34m\u001b[0m\u001b[0m\n\u001b[1;32m     96\u001b[0m     \u001b[0;32mif\u001b[0m \u001b[0mreply\u001b[0m \u001b[0;34m==\u001b[0m \u001b[0m_NOT_READY\u001b[0m \u001b[0;32mor\u001b[0m \u001b[0;32mnot\u001b[0m \u001b[0misinstance\u001b[0m\u001b[0;34m(\u001b[0m\u001b[0mreply\u001b[0m\u001b[0;34m,\u001b[0m \u001b[0mdict\u001b[0m\u001b[0;34m)\u001b[0m\u001b[0;34m:\u001b[0m\u001b[0;34m\u001b[0m\u001b[0;34m\u001b[0m\u001b[0m\n\u001b[0;32m---> 97\u001b[0;31m       \u001b[0mtime\u001b[0m\u001b[0;34m.\u001b[0m\u001b[0msleep\u001b[0m\u001b[0;34m(\u001b[0m\u001b[0;36m0.025\u001b[0m\u001b[0;34m)\u001b[0m\u001b[0;34m\u001b[0m\u001b[0;34m\u001b[0m\u001b[0m\n\u001b[0m\u001b[1;32m     98\u001b[0m       \u001b[0;32mcontinue\u001b[0m\u001b[0;34m\u001b[0m\u001b[0;34m\u001b[0m\u001b[0m\n\u001b[1;32m     99\u001b[0m     if (reply.get('type') == 'colab_reply' and\n",
            "\u001b[0;31mKeyboardInterrupt\u001b[0m: "
          ]
        }
      ]
    },
    {
      "cell_type": "markdown",
      "metadata": {
        "id": "DMDfWDtkDSVU"
      },
      "source": [
        "Export the model\n"
      ]
    },
    {
      "cell_type": "code",
      "metadata": {
        "id": "yglkVaQTDWaS",
        "outputId": "67e4fd23-091d-4cff-e814-6907c1010b27",
        "colab": {
          "base_uri": "https://localhost:8080/"
        }
      },
      "source": [
        "INDIAN_CURRENCY_SAVED_MODEL = \"exp_saved_model\"\n",
        "tf.saved_model.save(model, INDIAN_CURRENCY_SAVED_MODEL)\n",
        "loaded = tf.saved_model.load(INDIAN_CURRENCY_SAVED_MODEL)\n",
        "print(list(loaded.signatures.keys()))\n",
        "infer = loaded.signatures[\"serving_default\"]\n",
        "print(infer.structured_input_signature)\n",
        "print(infer.structured_outputs)"
      ],
      "execution_count": 30,
      "outputs": [
        {
          "output_type": "stream",
          "name": "stderr",
          "text": [
            "WARNING:absl:Found untraced functions such as _jit_compiled_convolution_op, _jit_compiled_convolution_op, _jit_compiled_convolution_op while saving (showing 3 of 3). These functions will not be directly callable after loading.\n"
          ]
        },
        {
          "output_type": "stream",
          "name": "stdout",
          "text": [
            "['serving_default']\n",
            "((), {'conv2d_input': TensorSpec(shape=(None, 256, 256, 3), dtype=tf.float32, name='conv2d_input')})\n",
            "{'dense_1': TensorSpec(shape=(None, 10), dtype=tf.float32, name='dense_1')}\n"
          ]
        }
      ]
    },
    {
      "cell_type": "markdown",
      "metadata": {
        "id": "ij0uwP73D-6c"
      },
      "source": [
        "Convert using TFLite's converter"
      ]
    },
    {
      "cell_type": "code",
      "metadata": {
        "id": "i6381dvsECyA"
      },
      "source": [
        "converter = tf.lite.TFLiteConverter.from_saved_model(INDIAN_CURRENCY_SAVED_MODEL)\n",
        "converter.optimizations = [tf.lite.Optimize.DEFAULT]\n",
        "\n",
        "tflite_model = converter.convert()\n",
        "tflite_model_file = 'converted_model.tflite'\n",
        "\n",
        "with open(tflite_model_file, \"wb\") as f:\n",
        "    f.write(tflite_model)"
      ],
      "execution_count": 31,
      "outputs": []
    },
    {
      "cell_type": "markdown",
      "metadata": {
        "id": "PSJE65TmGiHB"
      },
      "source": [
        "CREATING LABEL.TXT"
      ]
    },
    {
      "cell_type": "code",
      "metadata": {
        "id": "EKPyCRhcGj9B"
      },
      "source": [
        "labels = ['10 Rupees', 'Rupees 10','100 Rupees','Rupees 100','20 Rupees','200 Rupees','2000 Rupees','50 Rupees','Rupees 50','500 Rupees']\n",
        "\n",
        "with open('labels.txt', 'w') as f:\n",
        "    f.write('\\n'.join(labels))"
      ],
      "execution_count": 32,
      "outputs": []
    },
    {
      "cell_type": "markdown",
      "metadata": {
        "id": "MIjUgiBxHGXF"
      },
      "source": [
        "Downloading files"
      ]
    },
    {
      "cell_type": "code",
      "metadata": {
        "id": "S5xE4vLyHH3_",
        "outputId": "63dd4e2f-fa9f-4c96-edb9-2addf62d729b",
        "colab": {
          "base_uri": "https://localhost:8080/",
          "height": 34
        }
      },
      "source": [
        "\n",
        "try:\n",
        "    from google.colab import files\n",
        "    files.download('converted_model.tflite')\n",
        "    files.download('labels.txt')\n",
        "except:\n",
        "    pass"
      ],
      "execution_count": 33,
      "outputs": [
        {
          "output_type": "display_data",
          "data": {
            "text/plain": [
              "<IPython.core.display.Javascript object>"
            ],
            "application/javascript": [
              "\n",
              "    async function download(id, filename, size) {\n",
              "      if (!google.colab.kernel.accessAllowed) {\n",
              "        return;\n",
              "      }\n",
              "      const div = document.createElement('div');\n",
              "      const label = document.createElement('label');\n",
              "      label.textContent = `Downloading \"${filename}\": `;\n",
              "      div.appendChild(label);\n",
              "      const progress = document.createElement('progress');\n",
              "      progress.max = size;\n",
              "      div.appendChild(progress);\n",
              "      document.body.appendChild(div);\n",
              "\n",
              "      const buffers = [];\n",
              "      let downloaded = 0;\n",
              "\n",
              "      const channel = await google.colab.kernel.comms.open(id);\n",
              "      // Send a message to notify the kernel that we're ready.\n",
              "      channel.send({})\n",
              "\n",
              "      for await (const message of channel.messages) {\n",
              "        // Send a message to notify the kernel that we're ready.\n",
              "        channel.send({})\n",
              "        if (message.buffers) {\n",
              "          for (const buffer of message.buffers) {\n",
              "            buffers.push(buffer);\n",
              "            downloaded += buffer.byteLength;\n",
              "            progress.value = downloaded;\n",
              "          }\n",
              "        }\n",
              "      }\n",
              "      const blob = new Blob(buffers, {type: 'application/binary'});\n",
              "      const a = document.createElement('a');\n",
              "      a.href = window.URL.createObjectURL(blob);\n",
              "      a.download = filename;\n",
              "      div.appendChild(a);\n",
              "      a.click();\n",
              "      div.remove();\n",
              "    }\n",
              "  "
            ]
          },
          "metadata": {}
        },
        {
          "output_type": "display_data",
          "data": {
            "text/plain": [
              "<IPython.core.display.Javascript object>"
            ],
            "application/javascript": [
              "download(\"download_caddbe93-30a5-45a4-b5d0-c49377f9fa85\", \"converted_model.tflite\", 14780040)"
            ]
          },
          "metadata": {}
        },
        {
          "output_type": "display_data",
          "data": {
            "text/plain": [
              "<IPython.core.display.Javascript object>"
            ],
            "application/javascript": [
              "\n",
              "    async function download(id, filename, size) {\n",
              "      if (!google.colab.kernel.accessAllowed) {\n",
              "        return;\n",
              "      }\n",
              "      const div = document.createElement('div');\n",
              "      const label = document.createElement('label');\n",
              "      label.textContent = `Downloading \"${filename}\": `;\n",
              "      div.appendChild(label);\n",
              "      const progress = document.createElement('progress');\n",
              "      progress.max = size;\n",
              "      div.appendChild(progress);\n",
              "      document.body.appendChild(div);\n",
              "\n",
              "      const buffers = [];\n",
              "      let downloaded = 0;\n",
              "\n",
              "      const channel = await google.colab.kernel.comms.open(id);\n",
              "      // Send a message to notify the kernel that we're ready.\n",
              "      channel.send({})\n",
              "\n",
              "      for await (const message of channel.messages) {\n",
              "        // Send a message to notify the kernel that we're ready.\n",
              "        channel.send({})\n",
              "        if (message.buffers) {\n",
              "          for (const buffer of message.buffers) {\n",
              "            buffers.push(buffer);\n",
              "            downloaded += buffer.byteLength;\n",
              "            progress.value = downloaded;\n",
              "          }\n",
              "        }\n",
              "      }\n",
              "      const blob = new Blob(buffers, {type: 'application/binary'});\n",
              "      const a = document.createElement('a');\n",
              "      a.href = window.URL.createObjectURL(blob);\n",
              "      a.download = filename;\n",
              "      div.appendChild(a);\n",
              "      a.click();\n",
              "      div.remove();\n",
              "    }\n",
              "  "
            ]
          },
          "metadata": {}
        },
        {
          "output_type": "display_data",
          "data": {
            "text/plain": [
              "<IPython.core.display.Javascript object>"
            ],
            "application/javascript": [
              "download(\"download_32166edb-b788-4de0-9afe-0b1423a463ed\", \"labels.txt\", 105)"
            ]
          },
          "metadata": {}
        }
      ]
    }
  ]
}